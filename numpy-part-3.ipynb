{
 "cells": [
  {
   "cell_type": "code",
   "execution_count": 1,
   "id": "45dcc023",
   "metadata": {
    "_cell_guid": "b1076dfc-b9ad-4769-8c92-a6c4dae69d19",
    "_uuid": "8f2839f25d086af736a60e9eeb907d3b93b6e0e5",
    "execution": {
     "iopub.execute_input": "2025-06-28T14:41:27.597220Z",
     "iopub.status.busy": "2025-06-28T14:41:27.596927Z",
     "iopub.status.idle": "2025-06-28T14:41:27.604437Z",
     "shell.execute_reply": "2025-06-28T14:41:27.603599Z"
    },
    "papermill": {
     "duration": 0.013643,
     "end_time": "2025-06-28T14:41:27.605924",
     "exception": false,
     "start_time": "2025-06-28T14:41:27.592281",
     "status": "completed"
    },
    "tags": []
   },
   "outputs": [],
   "source": [
    "import numpy as np \n"
   ]
  },
  {
   "cell_type": "code",
   "execution_count": 2,
   "id": "5e27ed5f",
   "metadata": {
    "execution": {
     "iopub.execute_input": "2025-06-28T14:41:27.612937Z",
     "iopub.status.busy": "2025-06-28T14:41:27.612717Z",
     "iopub.status.idle": "2025-06-28T14:41:27.616579Z",
     "shell.execute_reply": "2025-06-28T14:41:27.615871Z"
    },
    "papermill": {
     "duration": 0.008527,
     "end_time": "2025-06-28T14:41:27.617834",
     "exception": false,
     "start_time": "2025-06-28T14:41:27.609307",
     "status": "completed"
    },
    "tags": []
   },
   "outputs": [],
   "source": [
    "a = np.array([True, False, True])"
   ]
  },
  {
   "cell_type": "code",
   "execution_count": 3,
   "id": "573358dc",
   "metadata": {
    "execution": {
     "iopub.execute_input": "2025-06-28T14:41:27.624537Z",
     "iopub.status.busy": "2025-06-28T14:41:27.624010Z",
     "iopub.status.idle": "2025-06-28T14:41:27.631163Z",
     "shell.execute_reply": "2025-06-28T14:41:27.630200Z"
    },
    "papermill": {
     "duration": 0.011889,
     "end_time": "2025-06-28T14:41:27.632607",
     "exception": false,
     "start_time": "2025-06-28T14:41:27.620718",
     "status": "completed"
    },
    "tags": []
   },
   "outputs": [
    {
     "data": {
      "text/plain": [
       "True"
      ]
     },
     "execution_count": 3,
     "metadata": {},
     "output_type": "execute_result"
    }
   ],
   "source": [
    "np.any(a)"
   ]
  },
  {
   "cell_type": "code",
   "execution_count": 4,
   "id": "7d10ebea",
   "metadata": {
    "execution": {
     "iopub.execute_input": "2025-06-28T14:41:27.640041Z",
     "iopub.status.busy": "2025-06-28T14:41:27.639348Z",
     "iopub.status.idle": "2025-06-28T14:41:27.644540Z",
     "shell.execute_reply": "2025-06-28T14:41:27.643815Z"
    },
    "papermill": {
     "duration": 0.010251,
     "end_time": "2025-06-28T14:41:27.645960",
     "exception": false,
     "start_time": "2025-06-28T14:41:27.635709",
     "status": "completed"
    },
    "tags": []
   },
   "outputs": [
    {
     "data": {
      "text/plain": [
       "False"
      ]
     },
     "execution_count": 4,
     "metadata": {},
     "output_type": "execute_result"
    }
   ],
   "source": [
    "np.all(a)"
   ]
  },
  {
   "cell_type": "code",
   "execution_count": 5,
   "id": "6b7e34cd",
   "metadata": {
    "execution": {
     "iopub.execute_input": "2025-06-28T14:41:27.652860Z",
     "iopub.status.busy": "2025-06-28T14:41:27.652605Z",
     "iopub.status.idle": "2025-06-28T14:41:27.656258Z",
     "shell.execute_reply": "2025-06-28T14:41:27.655481Z"
    },
    "papermill": {
     "duration": 0.00862,
     "end_time": "2025-06-28T14:41:27.657682",
     "exception": false,
     "start_time": "2025-06-28T14:41:27.649062",
     "status": "completed"
    },
    "tags": []
   },
   "outputs": [],
   "source": [
    "b = 2"
   ]
  },
  {
   "cell_type": "code",
   "execution_count": 6,
   "id": "3f2276a1",
   "metadata": {
    "execution": {
     "iopub.execute_input": "2025-06-28T14:41:27.664725Z",
     "iopub.status.busy": "2025-06-28T14:41:27.664215Z",
     "iopub.status.idle": "2025-06-28T14:41:27.669281Z",
     "shell.execute_reply": "2025-06-28T14:41:27.668623Z"
    },
    "papermill": {
     "duration": 0.010041,
     "end_time": "2025-06-28T14:41:27.670764",
     "exception": false,
     "start_time": "2025-06-28T14:41:27.660723",
     "status": "completed"
    },
    "tags": []
   },
   "outputs": [
    {
     "data": {
      "text/plain": [
       "True"
      ]
     },
     "execution_count": 6,
     "metadata": {},
     "output_type": "execute_result"
    }
   ],
   "source": [
    "np.any(b== 2)"
   ]
  },
  {
   "cell_type": "code",
   "execution_count": 7,
   "id": "21733379",
   "metadata": {
    "execution": {
     "iopub.execute_input": "2025-06-28T14:41:27.677685Z",
     "iopub.status.busy": "2025-06-28T14:41:27.677441Z",
     "iopub.status.idle": "2025-06-28T14:41:27.684017Z",
     "shell.execute_reply": "2025-06-28T14:41:27.683008Z"
    },
    "papermill": {
     "duration": 0.011527,
     "end_time": "2025-06-28T14:41:27.685405",
     "exception": false,
     "start_time": "2025-06-28T14:41:27.673878",
     "status": "completed"
    },
    "tags": []
   },
   "outputs": [
    {
     "name": "stdout",
     "output_type": "stream",
     "text": [
      "Is the content of array c is greater than o or not [ True  True  True]\n",
      "Is the content of array c is less than 0 or not [False False False]\n"
     ]
    }
   ],
   "source": [
    "c = np.array([1,2,4])\n",
    "print(\"Is the content of array c is greater than o or not\",c>0)\n",
    "print(\"Is the content of array c is less than 0 or not\",c<0)"
   ]
  },
  {
   "cell_type": "code",
   "execution_count": 8,
   "id": "e7a5cfa2",
   "metadata": {
    "execution": {
     "iopub.execute_input": "2025-06-28T14:41:27.692775Z",
     "iopub.status.busy": "2025-06-28T14:41:27.692259Z",
     "iopub.status.idle": "2025-06-28T14:41:27.697413Z",
     "shell.execute_reply": "2025-06-28T14:41:27.696640Z"
    },
    "papermill": {
     "duration": 0.010088,
     "end_time": "2025-06-28T14:41:27.698715",
     "exception": false,
     "start_time": "2025-06-28T14:41:27.688627",
     "status": "completed"
    },
    "tags": []
   },
   "outputs": [
    {
     "data": {
      "text/plain": [
       "True"
      ]
     },
     "execution_count": 8,
     "metadata": {},
     "output_type": "execute_result"
    }
   ],
   "source": [
    "np.all(c>0)"
   ]
  },
  {
   "cell_type": "code",
   "execution_count": 9,
   "id": "dd18f61a",
   "metadata": {
    "execution": {
     "iopub.execute_input": "2025-06-28T14:41:27.706392Z",
     "iopub.status.busy": "2025-06-28T14:41:27.705814Z",
     "iopub.status.idle": "2025-06-28T14:41:27.710884Z",
     "shell.execute_reply": "2025-06-28T14:41:27.710161Z"
    },
    "papermill": {
     "duration": 0.010092,
     "end_time": "2025-06-28T14:41:27.712141",
     "exception": false,
     "start_time": "2025-06-28T14:41:27.702049",
     "status": "completed"
    },
    "tags": []
   },
   "outputs": [
    {
     "data": {
      "text/plain": [
       "False"
      ]
     },
     "execution_count": 9,
     "metadata": {},
     "output_type": "execute_result"
    }
   ],
   "source": [
    "np.all(c<0)"
   ]
  },
  {
   "cell_type": "code",
   "execution_count": 10,
   "id": "e4361614",
   "metadata": {
    "execution": {
     "iopub.execute_input": "2025-06-28T14:41:27.719535Z",
     "iopub.status.busy": "2025-06-28T14:41:27.719102Z",
     "iopub.status.idle": "2025-06-28T14:41:27.724605Z",
     "shell.execute_reply": "2025-06-28T14:41:27.723916Z"
    },
    "papermill": {
     "duration": 0.010465,
     "end_time": "2025-06-28T14:41:27.725877",
     "exception": false,
     "start_time": "2025-06-28T14:41:27.715412",
     "status": "completed"
    },
    "tags": []
   },
   "outputs": [
    {
     "data": {
      "text/plain": [
       "array([ True,  True,  True])"
      ]
     },
     "execution_count": 10,
     "metadata": {},
     "output_type": "execute_result"
    }
   ],
   "source": [
    "x = np.array([1,2,3])\n",
    "y = np.array([4,5,6])\n",
    "z = np.array([7,8,9])\n",
    "\n",
    "#x<y<z\n",
    "res1 = x<y\n",
    "res1"
   ]
  },
  {
   "cell_type": "code",
   "execution_count": 11,
   "id": "ce9bfc65",
   "metadata": {
    "execution": {
     "iopub.execute_input": "2025-06-28T14:41:27.733262Z",
     "iopub.status.busy": "2025-06-28T14:41:27.733061Z",
     "iopub.status.idle": "2025-06-28T14:41:27.738121Z",
     "shell.execute_reply": "2025-06-28T14:41:27.737313Z"
    },
    "papermill": {
     "duration": 0.010231,
     "end_time": "2025-06-28T14:41:27.739480",
     "exception": false,
     "start_time": "2025-06-28T14:41:27.729249",
     "status": "completed"
    },
    "tags": []
   },
   "outputs": [
    {
     "data": {
      "text/plain": [
       "array([ True,  True,  True])"
      ]
     },
     "execution_count": 11,
     "metadata": {},
     "output_type": "execute_result"
    }
   ],
   "source": [
    "res2 = y<z\n",
    "res2"
   ]
  },
  {
   "cell_type": "code",
   "execution_count": 12,
   "id": "d1397a8d",
   "metadata": {
    "execution": {
     "iopub.execute_input": "2025-06-28T14:41:27.747128Z",
     "iopub.status.busy": "2025-06-28T14:41:27.746912Z",
     "iopub.status.idle": "2025-06-28T14:41:27.751736Z",
     "shell.execute_reply": "2025-06-28T14:41:27.751050Z"
    },
    "papermill": {
     "duration": 0.01011,
     "end_time": "2025-06-28T14:41:27.753046",
     "exception": false,
     "start_time": "2025-06-28T14:41:27.742936",
     "status": "completed"
    },
    "tags": []
   },
   "outputs": [
    {
     "data": {
      "text/plain": [
       "array([ True,  True,  True])"
      ]
     },
     "execution_count": 12,
     "metadata": {},
     "output_type": "execute_result"
    }
   ],
   "source": [
    "res3 = res1 & res2\n",
    "res3"
   ]
  },
  {
   "cell_type": "code",
   "execution_count": 13,
   "id": "8cec91ee",
   "metadata": {
    "execution": {
     "iopub.execute_input": "2025-06-28T14:41:27.760824Z",
     "iopub.status.busy": "2025-06-28T14:41:27.760612Z",
     "iopub.status.idle": "2025-06-28T14:41:27.765546Z",
     "shell.execute_reply": "2025-06-28T14:41:27.764764Z"
    },
    "papermill": {
     "duration": 0.010218,
     "end_time": "2025-06-28T14:41:27.766830",
     "exception": false,
     "start_time": "2025-06-28T14:41:27.756612",
     "status": "completed"
    },
    "tags": []
   },
   "outputs": [
    {
     "data": {
      "text/plain": [
       "True"
      ]
     },
     "execution_count": 13,
     "metadata": {},
     "output_type": "execute_result"
    }
   ],
   "source": [
    "np.all(res3)"
   ]
  }
 ],
 "metadata": {
  "kaggle": {
   "accelerator": "none",
   "dataSources": [],
   "dockerImageVersionId": 31040,
   "isGpuEnabled": false,
   "isInternetEnabled": true,
   "language": "python",
   "sourceType": "notebook"
  },
  "kernelspec": {
   "display_name": "Python 3",
   "language": "python",
   "name": "python3"
  },
  "language_info": {
   "codemirror_mode": {
    "name": "ipython",
    "version": 3
   },
   "file_extension": ".py",
   "mimetype": "text/x-python",
   "name": "python",
   "nbconvert_exporter": "python",
   "pygments_lexer": "ipython3",
   "version": "3.11.11"
  },
  "papermill": {
   "default_parameters": {},
   "duration": 5.155442,
   "end_time": "2025-06-28T14:41:28.087293",
   "environment_variables": {},
   "exception": null,
   "input_path": "__notebook__.ipynb",
   "output_path": "__notebook__.ipynb",
   "parameters": {},
   "start_time": "2025-06-28T14:41:22.931851",
   "version": "2.6.0"
  }
 },
 "nbformat": 4,
 "nbformat_minor": 5
}
