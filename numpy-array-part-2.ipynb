{
 "cells": [
  {
   "cell_type": "code",
   "execution_count": 1,
   "id": "a1a8c009",
   "metadata": {
    "_cell_guid": "b1076dfc-b9ad-4769-8c92-a6c4dae69d19",
    "_uuid": "8f2839f25d086af736a60e9eeb907d3b93b6e0e5",
    "execution": {
     "iopub.execute_input": "2025-06-28T07:23:28.865727Z",
     "iopub.status.busy": "2025-06-28T07:23:28.865399Z",
     "iopub.status.idle": "2025-06-28T07:23:28.873080Z",
     "shell.execute_reply": "2025-06-28T07:23:28.872179Z"
    },
    "papermill": {
     "duration": 0.016965,
     "end_time": "2025-06-28T07:23:28.874768",
     "exception": false,
     "start_time": "2025-06-28T07:23:28.857803",
     "status": "completed"
    },
    "tags": []
   },
   "outputs": [],
   "source": [
    "import numpy as np"
   ]
  },
  {
   "cell_type": "code",
   "execution_count": 2,
   "id": "58750827",
   "metadata": {
    "execution": {
     "iopub.execute_input": "2025-06-28T07:23:28.887517Z",
     "iopub.status.busy": "2025-06-28T07:23:28.886436Z",
     "iopub.status.idle": "2025-06-28T07:23:28.891425Z",
     "shell.execute_reply": "2025-06-28T07:23:28.890333Z"
    },
    "papermill": {
     "duration": 0.012736,
     "end_time": "2025-06-28T07:23:28.893296",
     "exception": false,
     "start_time": "2025-06-28T07:23:28.880560",
     "status": "completed"
    },
    "tags": []
   },
   "outputs": [],
   "source": [
    "#1 D Array\n",
    "a = np.array([1,2,3,4,5])"
   ]
  },
  {
   "cell_type": "code",
   "execution_count": 3,
   "id": "667ac329",
   "metadata": {
    "execution": {
     "iopub.execute_input": "2025-06-28T07:23:28.900354Z",
     "iopub.status.busy": "2025-06-28T07:23:28.900041Z",
     "iopub.status.idle": "2025-06-28T07:23:28.908474Z",
     "shell.execute_reply": "2025-06-28T07:23:28.907546Z"
    },
    "papermill": {
     "duration": 0.013902,
     "end_time": "2025-06-28T07:23:28.910277",
     "exception": false,
     "start_time": "2025-06-28T07:23:28.896375",
     "status": "completed"
    },
    "tags": []
   },
   "outputs": [
    {
     "data": {
      "text/plain": [
       "15"
      ]
     },
     "execution_count": 3,
     "metadata": {},
     "output_type": "execute_result"
    }
   ],
   "source": [
    "np.sum(a)"
   ]
  },
  {
   "cell_type": "code",
   "execution_count": 4,
   "id": "4aafbb18",
   "metadata": {
    "execution": {
     "iopub.execute_input": "2025-06-28T07:23:28.921948Z",
     "iopub.status.busy": "2025-06-28T07:23:28.921609Z",
     "iopub.status.idle": "2025-06-28T07:23:28.927784Z",
     "shell.execute_reply": "2025-06-28T07:23:28.926892Z"
    },
    "papermill": {
     "duration": 0.014145,
     "end_time": "2025-06-28T07:23:28.929653",
     "exception": false,
     "start_time": "2025-06-28T07:23:28.915508",
     "status": "completed"
    },
    "tags": []
   },
   "outputs": [
    {
     "data": {
      "text/plain": [
       "3.0"
      ]
     },
     "execution_count": 4,
     "metadata": {},
     "output_type": "execute_result"
    }
   ],
   "source": [
    "np.mean(a)"
   ]
  },
  {
   "cell_type": "code",
   "execution_count": 5,
   "id": "3c00f2b0",
   "metadata": {
    "execution": {
     "iopub.execute_input": "2025-06-28T07:23:28.941573Z",
     "iopub.status.busy": "2025-06-28T07:23:28.941264Z",
     "iopub.status.idle": "2025-06-28T07:23:28.948803Z",
     "shell.execute_reply": "2025-06-28T07:23:28.947855Z"
    },
    "papermill": {
     "duration": 0.015393,
     "end_time": "2025-06-28T07:23:28.950437",
     "exception": false,
     "start_time": "2025-06-28T07:23:28.935044",
     "status": "completed"
    },
    "tags": []
   },
   "outputs": [
    {
     "data": {
      "text/plain": [
       "5"
      ]
     },
     "execution_count": 5,
     "metadata": {},
     "output_type": "execute_result"
    }
   ],
   "source": [
    "np.max(a)"
   ]
  },
  {
   "cell_type": "code",
   "execution_count": 6,
   "id": "6a0cc7e7",
   "metadata": {
    "execution": {
     "iopub.execute_input": "2025-06-28T07:23:28.958483Z",
     "iopub.status.busy": "2025-06-28T07:23:28.958042Z",
     "iopub.status.idle": "2025-06-28T07:23:28.965143Z",
     "shell.execute_reply": "2025-06-28T07:23:28.964179Z"
    },
    "papermill": {
     "duration": 0.013344,
     "end_time": "2025-06-28T07:23:28.967100",
     "exception": false,
     "start_time": "2025-06-28T07:23:28.953756",
     "status": "completed"
    },
    "tags": []
   },
   "outputs": [
    {
     "data": {
      "text/plain": [
       "1"
      ]
     },
     "execution_count": 6,
     "metadata": {},
     "output_type": "execute_result"
    }
   ],
   "source": [
    "np.min(a)"
   ]
  },
  {
   "cell_type": "code",
   "execution_count": 7,
   "id": "d0320d5c",
   "metadata": {
    "execution": {
     "iopub.execute_input": "2025-06-28T07:23:28.979431Z",
     "iopub.status.busy": "2025-06-28T07:23:28.979110Z",
     "iopub.status.idle": "2025-06-28T07:23:28.986711Z",
     "shell.execute_reply": "2025-06-28T07:23:28.985599Z"
    },
    "papermill": {
     "duration": 0.016343,
     "end_time": "2025-06-28T07:23:28.989009",
     "exception": false,
     "start_time": "2025-06-28T07:23:28.972666",
     "status": "completed"
    },
    "tags": []
   },
   "outputs": [
    {
     "data": {
      "text/plain": [
       "0"
      ]
     },
     "execution_count": 7,
     "metadata": {},
     "output_type": "execute_result"
    }
   ],
   "source": [
    "np.argmin(a)# returns the index of the minimum value"
   ]
  },
  {
   "cell_type": "code",
   "execution_count": 8,
   "id": "f89954be",
   "metadata": {
    "execution": {
     "iopub.execute_input": "2025-06-28T07:23:29.003247Z",
     "iopub.status.busy": "2025-06-28T07:23:29.001988Z",
     "iopub.status.idle": "2025-06-28T07:23:29.009036Z",
     "shell.execute_reply": "2025-06-28T07:23:29.008031Z"
    },
    "papermill": {
     "duration": 0.015189,
     "end_time": "2025-06-28T07:23:29.010498",
     "exception": false,
     "start_time": "2025-06-28T07:23:28.995309",
     "status": "completed"
    },
    "tags": []
   },
   "outputs": [
    {
     "data": {
      "text/plain": [
       "5"
      ]
     },
     "execution_count": 8,
     "metadata": {},
     "output_type": "execute_result"
    }
   ],
   "source": [
    "np.max(a)"
   ]
  },
  {
   "cell_type": "code",
   "execution_count": 9,
   "id": "cbfb8412",
   "metadata": {
    "execution": {
     "iopub.execute_input": "2025-06-28T07:23:29.019283Z",
     "iopub.status.busy": "2025-06-28T07:23:29.018869Z",
     "iopub.status.idle": "2025-06-28T07:23:29.026206Z",
     "shell.execute_reply": "2025-06-28T07:23:29.025002Z"
    },
    "papermill": {
     "duration": 0.014086,
     "end_time": "2025-06-28T07:23:29.028141",
     "exception": false,
     "start_time": "2025-06-28T07:23:29.014055",
     "status": "completed"
    },
    "tags": []
   },
   "outputs": [
    {
     "data": {
      "text/plain": [
       "4"
      ]
     },
     "execution_count": 9,
     "metadata": {},
     "output_type": "execute_result"
    }
   ],
   "source": [
    "np.argmax(a)"
   ]
  },
  {
   "cell_type": "code",
   "execution_count": 10,
   "id": "eb8fabc5",
   "metadata": {
    "execution": {
     "iopub.execute_input": "2025-06-28T07:23:29.037144Z",
     "iopub.status.busy": "2025-06-28T07:23:29.036729Z",
     "iopub.status.idle": "2025-06-28T07:23:29.045146Z",
     "shell.execute_reply": "2025-06-28T07:23:29.043998Z"
    },
    "papermill": {
     "duration": 0.015096,
     "end_time": "2025-06-28T07:23:29.047140",
     "exception": false,
     "start_time": "2025-06-28T07:23:29.032044",
     "status": "completed"
    },
    "tags": []
   },
   "outputs": [
    {
     "data": {
      "text/plain": [
       "3.0"
      ]
     },
     "execution_count": 10,
     "metadata": {},
     "output_type": "execute_result"
    }
   ],
   "source": [
    "np.median(a)"
   ]
  },
  {
   "cell_type": "code",
   "execution_count": 11,
   "id": "dd5623de",
   "metadata": {
    "execution": {
     "iopub.execute_input": "2025-06-28T07:23:29.056120Z",
     "iopub.status.busy": "2025-06-28T07:23:29.055725Z",
     "iopub.status.idle": "2025-06-28T07:23:29.063129Z",
     "shell.execute_reply": "2025-06-28T07:23:29.062066Z"
    },
    "papermill": {
     "duration": 0.013768,
     "end_time": "2025-06-28T07:23:29.064750",
     "exception": false,
     "start_time": "2025-06-28T07:23:29.050982",
     "status": "completed"
    },
    "tags": []
   },
   "outputs": [
    {
     "data": {
      "text/plain": [
       "1.4142135623730951"
      ]
     },
     "execution_count": 11,
     "metadata": {},
     "output_type": "execute_result"
    }
   ],
   "source": [
    "np.std(a)"
   ]
  },
  {
   "cell_type": "code",
   "execution_count": null,
   "id": "a56cf2e5",
   "metadata": {
    "papermill": {
     "duration": 0.003378,
     "end_time": "2025-06-28T07:23:29.072453",
     "exception": false,
     "start_time": "2025-06-28T07:23:29.069075",
     "status": "completed"
    },
    "tags": []
   },
   "outputs": [],
   "source": []
  },
  {
   "cell_type": "code",
   "execution_count": null,
   "id": "55912bdf",
   "metadata": {
    "papermill": {
     "duration": 0.003076,
     "end_time": "2025-06-28T07:23:29.079073",
     "exception": false,
     "start_time": "2025-06-28T07:23:29.075997",
     "status": "completed"
    },
    "tags": []
   },
   "outputs": [],
   "source": []
  }
 ],
 "metadata": {
  "kaggle": {
   "accelerator": "none",
   "dataSources": [],
   "dockerImageVersionId": 31040,
   "isGpuEnabled": false,
   "isInternetEnabled": true,
   "language": "python",
   "sourceType": "notebook"
  },
  "kernelspec": {
   "display_name": "Python 3",
   "language": "python",
   "name": "python3"
  },
  "language_info": {
   "codemirror_mode": {
    "name": "ipython",
    "version": 3
   },
   "file_extension": ".py",
   "mimetype": "text/x-python",
   "name": "python",
   "nbconvert_exporter": "python",
   "pygments_lexer": "ipython3",
   "version": "3.11.11"
  },
  "papermill": {
   "default_parameters": {},
   "duration": 5.948779,
   "end_time": "2025-06-28T07:23:29.603318",
   "environment_variables": {},
   "exception": null,
   "input_path": "__notebook__.ipynb",
   "output_path": "__notebook__.ipynb",
   "parameters": {},
   "start_time": "2025-06-28T07:23:23.654539",
   "version": "2.6.0"
  }
 },
 "nbformat": 4,
 "nbformat_minor": 5
}
