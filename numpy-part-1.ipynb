{
 "cells": [
  {
   "cell_type": "code",
   "execution_count": 1,
   "id": "efe04771",
   "metadata": {
    "_cell_guid": "b1076dfc-b9ad-4769-8c92-a6c4dae69d19",
    "_uuid": "8f2839f25d086af736a60e9eeb907d3b93b6e0e5",
    "execution": {
     "iopub.execute_input": "2025-06-28T07:16:15.117455Z",
     "iopub.status.busy": "2025-06-28T07:16:15.117049Z",
     "iopub.status.idle": "2025-06-28T07:16:15.125687Z",
     "shell.execute_reply": "2025-06-28T07:16:15.124675Z"
    },
    "papermill": {
     "duration": 0.015915,
     "end_time": "2025-06-28T07:16:15.127395",
     "exception": false,
     "start_time": "2025-06-28T07:16:15.111480",
     "status": "completed"
    },
    "tags": []
   },
   "outputs": [],
   "source": [
    "import numpy as np"
   ]
  },
  {
   "cell_type": "code",
   "execution_count": 2,
   "id": "27809b51",
   "metadata": {
    "execution": {
     "iopub.execute_input": "2025-06-28T07:16:15.136775Z",
     "iopub.status.busy": "2025-06-28T07:16:15.136481Z",
     "iopub.status.idle": "2025-06-28T07:16:15.141481Z",
     "shell.execute_reply": "2025-06-28T07:16:15.140370Z"
    },
    "papermill": {
     "duration": 0.011684,
     "end_time": "2025-06-28T07:16:15.143198",
     "exception": false,
     "start_time": "2025-06-28T07:16:15.131514",
     "status": "completed"
    },
    "tags": []
   },
   "outputs": [],
   "source": [
    "a = np.array([12,45,36,78])\n",
    "b = np.array([12,45,3,7])"
   ]
  },
  {
   "cell_type": "code",
   "execution_count": 3,
   "id": "9c52844a",
   "metadata": {
    "execution": {
     "iopub.execute_input": "2025-06-28T07:16:15.151993Z",
     "iopub.status.busy": "2025-06-28T07:16:15.151680Z",
     "iopub.status.idle": "2025-06-28T07:16:15.158165Z",
     "shell.execute_reply": "2025-06-28T07:16:15.156951Z"
    },
    "papermill": {
     "duration": 0.012898,
     "end_time": "2025-06-28T07:16:15.159996",
     "exception": false,
     "start_time": "2025-06-28T07:16:15.147098",
     "status": "completed"
    },
    "tags": []
   },
   "outputs": [],
   "source": [
    "mask = (a==b)"
   ]
  },
  {
   "cell_type": "code",
   "execution_count": 4,
   "id": "a7a43763",
   "metadata": {
    "execution": {
     "iopub.execute_input": "2025-06-28T07:16:15.169440Z",
     "iopub.status.busy": "2025-06-28T07:16:15.169050Z",
     "iopub.status.idle": "2025-06-28T07:16:15.177721Z",
     "shell.execute_reply": "2025-06-28T07:16:15.176779Z"
    },
    "papermill": {
     "duration": 0.015347,
     "end_time": "2025-06-28T07:16:15.179381",
     "exception": false,
     "start_time": "2025-06-28T07:16:15.164034",
     "status": "completed"
    },
    "tags": []
   },
   "outputs": [
    {
     "data": {
      "text/plain": [
       "array([12, 45])"
      ]
     },
     "execution_count": 4,
     "metadata": {},
     "output_type": "execute_result"
    }
   ],
   "source": [
    "a[mask]"
   ]
  },
  {
   "cell_type": "code",
   "execution_count": 5,
   "id": "f01a3545",
   "metadata": {
    "execution": {
     "iopub.execute_input": "2025-06-28T07:16:15.188087Z",
     "iopub.status.busy": "2025-06-28T07:16:15.187778Z",
     "iopub.status.idle": "2025-06-28T07:16:15.194268Z",
     "shell.execute_reply": "2025-06-28T07:16:15.193408Z"
    },
    "papermill": {
     "duration": 0.012769,
     "end_time": "2025-06-28T07:16:15.195995",
     "exception": false,
     "start_time": "2025-06-28T07:16:15.183226",
     "status": "completed"
    },
    "tags": []
   },
   "outputs": [
    {
     "data": {
      "text/plain": [
       "False"
      ]
     },
     "execution_count": 5,
     "metadata": {},
     "output_type": "execute_result"
    }
   ],
   "source": [
    "np.array_equal(a,b)"
   ]
  },
  {
   "cell_type": "code",
   "execution_count": 6,
   "id": "a07743e4",
   "metadata": {
    "execution": {
     "iopub.execute_input": "2025-06-28T07:16:15.206170Z",
     "iopub.status.busy": "2025-06-28T07:16:15.205789Z",
     "iopub.status.idle": "2025-06-28T07:16:15.211277Z",
     "shell.execute_reply": "2025-06-28T07:16:15.210208Z"
    },
    "papermill": {
     "duration": 0.012901,
     "end_time": "2025-06-28T07:16:15.212991",
     "exception": false,
     "start_time": "2025-06-28T07:16:15.200090",
     "status": "completed"
    },
    "tags": []
   },
   "outputs": [],
   "source": [
    "### LOgical operations \n",
    "c = np.array([1,0,0,1])\n",
    "d = np.array([1,0,1,0])"
   ]
  },
  {
   "cell_type": "code",
   "execution_count": 7,
   "id": "a7f56cd1",
   "metadata": {
    "execution": {
     "iopub.execute_input": "2025-06-28T07:16:15.222722Z",
     "iopub.status.busy": "2025-06-28T07:16:15.222294Z",
     "iopub.status.idle": "2025-06-28T07:16:15.229958Z",
     "shell.execute_reply": "2025-06-28T07:16:15.228764Z"
    },
    "papermill": {
     "duration": 0.014478,
     "end_time": "2025-06-28T07:16:15.231698",
     "exception": false,
     "start_time": "2025-06-28T07:16:15.217220",
     "status": "completed"
    },
    "tags": []
   },
   "outputs": [
    {
     "data": {
      "text/plain": [
       "array([ True, False, False, False])"
      ]
     },
     "execution_count": 7,
     "metadata": {},
     "output_type": "execute_result"
    }
   ],
   "source": [
    "np.logical_and(c,d)\n"
   ]
  },
  {
   "cell_type": "code",
   "execution_count": 8,
   "id": "606a4590",
   "metadata": {
    "execution": {
     "iopub.execute_input": "2025-06-28T07:16:15.240590Z",
     "iopub.status.busy": "2025-06-28T07:16:15.240284Z",
     "iopub.status.idle": "2025-06-28T07:16:15.246956Z",
     "shell.execute_reply": "2025-06-28T07:16:15.245702Z"
    },
    "papermill": {
     "duration": 0.01314,
     "end_time": "2025-06-28T07:16:15.248770",
     "exception": false,
     "start_time": "2025-06-28T07:16:15.235630",
     "status": "completed"
    },
    "tags": []
   },
   "outputs": [
    {
     "data": {
      "text/plain": [
       "array([ True, False,  True,  True])"
      ]
     },
     "execution_count": 8,
     "metadata": {},
     "output_type": "execute_result"
    }
   ],
   "source": [
    "np.logical_or(c,d)"
   ]
  },
  {
   "cell_type": "code",
   "execution_count": null,
   "id": "9ee578e5",
   "metadata": {
    "papermill": {
     "duration": 0.003719,
     "end_time": "2025-06-28T07:16:15.256703",
     "exception": false,
     "start_time": "2025-06-28T07:16:15.252984",
     "status": "completed"
    },
    "tags": []
   },
   "outputs": [],
   "source": []
  },
  {
   "cell_type": "code",
   "execution_count": null,
   "id": "cfd22a66",
   "metadata": {
    "papermill": {
     "duration": 0.003942,
     "end_time": "2025-06-28T07:16:15.264495",
     "exception": false,
     "start_time": "2025-06-28T07:16:15.260553",
     "status": "completed"
    },
    "tags": []
   },
   "outputs": [],
   "source": []
  },
  {
   "cell_type": "code",
   "execution_count": null,
   "id": "ba7211a4",
   "metadata": {
    "papermill": {
     "duration": 0.004088,
     "end_time": "2025-06-28T07:16:15.272857",
     "exception": false,
     "start_time": "2025-06-28T07:16:15.268769",
     "status": "completed"
    },
    "tags": []
   },
   "outputs": [],
   "source": []
  },
  {
   "cell_type": "code",
   "execution_count": null,
   "id": "3f6daa7c",
   "metadata": {
    "papermill": {
     "duration": 0.003526,
     "end_time": "2025-06-28T07:16:15.280211",
     "exception": false,
     "start_time": "2025-06-28T07:16:15.276685",
     "status": "completed"
    },
    "tags": []
   },
   "outputs": [],
   "source": []
  },
  {
   "cell_type": "code",
   "execution_count": null,
   "id": "746bff87",
   "metadata": {
    "papermill": {
     "duration": 0.003507,
     "end_time": "2025-06-28T07:16:15.287532",
     "exception": false,
     "start_time": "2025-06-28T07:16:15.284025",
     "status": "completed"
    },
    "tags": []
   },
   "outputs": [],
   "source": []
  },
  {
   "cell_type": "code",
   "execution_count": null,
   "id": "30fee448",
   "metadata": {
    "papermill": {
     "duration": 0.004466,
     "end_time": "2025-06-28T07:16:15.296050",
     "exception": false,
     "start_time": "2025-06-28T07:16:15.291584",
     "status": "completed"
    },
    "tags": []
   },
   "outputs": [],
   "source": []
  },
  {
   "cell_type": "code",
   "execution_count": null,
   "id": "657b54f4",
   "metadata": {
    "papermill": {
     "duration": 0.004605,
     "end_time": "2025-06-28T07:16:15.305319",
     "exception": false,
     "start_time": "2025-06-28T07:16:15.300714",
     "status": "completed"
    },
    "tags": []
   },
   "outputs": [],
   "source": []
  },
  {
   "cell_type": "code",
   "execution_count": null,
   "id": "cab2edf5",
   "metadata": {
    "papermill": {
     "duration": 0.003845,
     "end_time": "2025-06-28T07:16:15.313295",
     "exception": false,
     "start_time": "2025-06-28T07:16:15.309450",
     "status": "completed"
    },
    "tags": []
   },
   "outputs": [],
   "source": []
  },
  {
   "cell_type": "code",
   "execution_count": null,
   "id": "7e772d9c",
   "metadata": {
    "papermill": {
     "duration": 0.003792,
     "end_time": "2025-06-28T07:16:15.321110",
     "exception": false,
     "start_time": "2025-06-28T07:16:15.317318",
     "status": "completed"
    },
    "tags": []
   },
   "outputs": [],
   "source": []
  },
  {
   "cell_type": "code",
   "execution_count": null,
   "id": "92a89856",
   "metadata": {
    "papermill": {
     "duration": 0.00393,
     "end_time": "2025-06-28T07:16:15.329170",
     "exception": false,
     "start_time": "2025-06-28T07:16:15.325240",
     "status": "completed"
    },
    "tags": []
   },
   "outputs": [],
   "source": []
  },
  {
   "cell_type": "code",
   "execution_count": null,
   "id": "232069a7",
   "metadata": {
    "papermill": {
     "duration": 0.004422,
     "end_time": "2025-06-28T07:16:15.337669",
     "exception": false,
     "start_time": "2025-06-28T07:16:15.333247",
     "status": "completed"
    },
    "tags": []
   },
   "outputs": [],
   "source": []
  },
  {
   "cell_type": "code",
   "execution_count": null,
   "id": "970a6fe0",
   "metadata": {
    "papermill": {
     "duration": 0.004234,
     "end_time": "2025-06-28T07:16:15.346069",
     "exception": false,
     "start_time": "2025-06-28T07:16:15.341835",
     "status": "completed"
    },
    "tags": []
   },
   "outputs": [],
   "source": []
  },
  {
   "cell_type": "code",
   "execution_count": null,
   "id": "b55e1b19",
   "metadata": {
    "papermill": {
     "duration": 0.003438,
     "end_time": "2025-06-28T07:16:15.353283",
     "exception": false,
     "start_time": "2025-06-28T07:16:15.349845",
     "status": "completed"
    },
    "tags": []
   },
   "outputs": [],
   "source": []
  },
  {
   "cell_type": "code",
   "execution_count": null,
   "id": "d812f3bf",
   "metadata": {
    "papermill": {
     "duration": 0.003484,
     "end_time": "2025-06-28T07:16:15.360418",
     "exception": false,
     "start_time": "2025-06-28T07:16:15.356934",
     "status": "completed"
    },
    "tags": []
   },
   "outputs": [],
   "source": []
  }
 ],
 "metadata": {
  "kaggle": {
   "accelerator": "none",
   "dataSources": [],
   "dockerImageVersionId": 31040,
   "isGpuEnabled": false,
   "isInternetEnabled": true,
   "language": "python",
   "sourceType": "notebook"
  },
  "kernelspec": {
   "display_name": "Python 3",
   "language": "python",
   "name": "python3"
  },
  "language_info": {
   "codemirror_mode": {
    "name": "ipython",
    "version": 3
   },
   "file_extension": ".py",
   "mimetype": "text/x-python",
   "name": "python",
   "nbconvert_exporter": "python",
   "pygments_lexer": "ipython3",
   "version": "3.11.11"
  },
  "papermill": {
   "default_parameters": {},
   "duration": 6.034264,
   "end_time": "2025-06-28T07:16:15.885912",
   "environment_variables": {},
   "exception": null,
   "input_path": "__notebook__.ipynb",
   "output_path": "__notebook__.ipynb",
   "parameters": {},
   "start_time": "2025-06-28T07:16:09.851648",
   "version": "2.6.0"
  }
 },
 "nbformat": 4,
 "nbformat_minor": 5
}
